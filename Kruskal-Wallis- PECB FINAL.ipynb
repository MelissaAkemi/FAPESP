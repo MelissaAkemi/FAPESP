{
 "cells": [
  {
   "cell_type": "code",
   "execution_count": 55,
   "id": "90b33077",
   "metadata": {
    "scrolled": true
   },
   "outputs": [],
   "source": [
    "#!/usr/bin/env python\n",
    "# coding: utf-8\n",
    "import numpy as np\n",
    "import pandas as pd\n",
    "from scipy import stats\n",
    "from scipy.stats import shapiro\n",
    "import scikit_posthocs as sp\n",
    "\n"
   ]
  },
  {
   "cell_type": "code",
   "execution_count": 57,
   "id": "0aafd635",
   "metadata": {},
   "outputs": [
    {
     "data": {
      "text/html": [
       "<div>\n",
       "<style scoped>\n",
       "    .dataframe tbody tr th:only-of-type {\n",
       "        vertical-align: middle;\n",
       "    }\n",
       "\n",
       "    .dataframe tbody tr th {\n",
       "        vertical-align: top;\n",
       "    }\n",
       "\n",
       "    .dataframe thead th {\n",
       "        text-align: right;\n",
       "    }\n",
       "</style>\n",
       "<table border=\"1\" class=\"dataframe\">\n",
       "  <thead>\n",
       "    <tr style=\"text-align: right;\">\n",
       "      <th></th>\n",
       "      <th>#01</th>\n",
       "      <th>#02</th>\n",
       "      <th>#03</th>\n",
       "      <th>#05</th>\n",
       "      <th>#06</th>\n",
       "      <th>#07</th>\n",
       "      <th>#08</th>\n",
       "      <th>#09</th>\n",
       "      <th>#10</th>\n",
       "      <th>#11</th>\n",
       "    </tr>\n",
       "  </thead>\n",
       "  <tbody>\n",
       "    <tr>\n",
       "      <th>0</th>\n",
       "      <td>0</td>\n",
       "      <td>0</td>\n",
       "      <td>1</td>\n",
       "      <td>0</td>\n",
       "      <td>0</td>\n",
       "      <td>0</td>\n",
       "      <td>0</td>\n",
       "      <td>0</td>\n",
       "      <td>0</td>\n",
       "      <td>0</td>\n",
       "    </tr>\n",
       "    <tr>\n",
       "      <th>1</th>\n",
       "      <td>1</td>\n",
       "      <td>0</td>\n",
       "      <td>0</td>\n",
       "      <td>0</td>\n",
       "      <td>0</td>\n",
       "      <td>0</td>\n",
       "      <td>0</td>\n",
       "      <td>0</td>\n",
       "      <td>0</td>\n",
       "      <td>0</td>\n",
       "    </tr>\n",
       "    <tr>\n",
       "      <th>2</th>\n",
       "      <td>0</td>\n",
       "      <td>2</td>\n",
       "      <td>0</td>\n",
       "      <td>0</td>\n",
       "      <td>0</td>\n",
       "      <td>0</td>\n",
       "      <td>1</td>\n",
       "      <td>0</td>\n",
       "      <td>0</td>\n",
       "      <td>0</td>\n",
       "    </tr>\n",
       "    <tr>\n",
       "      <th>3</th>\n",
       "      <td>0</td>\n",
       "      <td>0</td>\n",
       "      <td>0</td>\n",
       "      <td>0</td>\n",
       "      <td>0</td>\n",
       "      <td>1</td>\n",
       "      <td>0</td>\n",
       "      <td>0</td>\n",
       "      <td>0</td>\n",
       "      <td>0</td>\n",
       "    </tr>\n",
       "    <tr>\n",
       "      <th>4</th>\n",
       "      <td>1</td>\n",
       "      <td>0</td>\n",
       "      <td>0</td>\n",
       "      <td>0</td>\n",
       "      <td>0</td>\n",
       "      <td>0</td>\n",
       "      <td>3</td>\n",
       "      <td>0</td>\n",
       "      <td>1</td>\n",
       "      <td>0</td>\n",
       "    </tr>\n",
       "  </tbody>\n",
       "</table>\n",
       "</div>"
      ],
      "text/plain": [
       "   #01  #02  #03  #05  #06  #07  #08  #09  #10  #11\n",
       "0    0    0    1    0    0    0    0    0    0    0\n",
       "1    1    0    0    0    0    0    0    0    0    0\n",
       "2    0    2    0    0    0    0    1    0    0    0\n",
       "3    0    0    0    0    0    1    0    0    0    0\n",
       "4    1    0    0    0    0    0    3    0    1    0"
      ]
     },
     "execution_count": 57,
     "metadata": {},
     "output_type": "execute_result"
    }
   ],
   "source": [
    "df = pd.read_csv(\"https://raw.githubusercontent.com/MelissaAkemi/FAPESP/main/ASCII%20PECB.txt\", delimiter=\";\")\n",
    "df.head()"
   ]
  },
  {
   "cell_type": "code",
   "execution_count": 12,
   "id": "7982e4f3-e709-4442-9447-23ec0fc51dde",
   "metadata": {},
   "outputs": [
    {
     "data": {
      "text/plain": [
       "ShapiroResult(statistic=0.6749260425567627, pvalue=4.7785542847123e-06)"
      ]
     },
     "execution_count": 12,
     "metadata": {},
     "output_type": "execute_result"
    }
   ],
   "source": [
    "shapiro(df[\"#01\"])"
   ]
  },
  {
   "cell_type": "code",
   "execution_count": 13,
   "id": "f799a105-162b-4c41-a71b-48875a907ae2",
   "metadata": {},
   "outputs": [
    {
     "data": {
      "text/plain": [
       "ShapiroResult(statistic=0.39289945363998413, pvalue=5.969919669723822e-09)"
      ]
     },
     "execution_count": 13,
     "metadata": {},
     "output_type": "execute_result"
    }
   ],
   "source": [
    "shapiro(df[\"#02\"])"
   ]
  },
  {
   "cell_type": "code",
   "execution_count": 14,
   "id": "0cbab612-cd3f-430b-be68-b3b8031b8cf1",
   "metadata": {},
   "outputs": [
    {
     "data": {
      "text/plain": [
       "ShapiroResult(statistic=0.4889346957206726, pvalue=4.410396670095906e-08)"
      ]
     },
     "execution_count": 14,
     "metadata": {},
     "output_type": "execute_result"
    }
   ],
   "source": [
    "shapiro(df[\"#03\"])"
   ]
  },
  {
   "cell_type": "code",
   "execution_count": 15,
   "id": "063c4394-5999-44b6-a326-15eefffbe544",
   "metadata": {},
   "outputs": [
    {
     "data": {
      "text/plain": [
       "ShapiroResult(statistic=0.4763858914375305, pvalue=3.351805588636125e-08)"
      ]
     },
     "execution_count": 15,
     "metadata": {},
     "output_type": "execute_result"
    }
   ],
   "source": [
    "shapiro(df[\"#05\"])"
   ]
  },
  {
   "cell_type": "code",
   "execution_count": 16,
   "id": "6c94b23d-a178-4200-8164-a8db029303b0",
   "metadata": {},
   "outputs": [
    {
     "data": {
      "text/plain": [
       "ShapiroResult(statistic=0.5283779501914978, pvalue=1.0759674751170678e-07)"
      ]
     },
     "execution_count": 16,
     "metadata": {},
     "output_type": "execute_result"
    }
   ],
   "source": [
    "shapiro(df[\"#06\"])"
   ]
  },
  {
   "cell_type": "code",
   "execution_count": 17,
   "id": "65dd2bf6-020e-4d13-9ba4-79e591b3c036",
   "metadata": {},
   "outputs": [
    {
     "data": {
      "text/plain": [
       "ShapiroResult(statistic=0.6516715288162231, pvalue=2.4639066396048293e-06)"
      ]
     },
     "execution_count": 17,
     "metadata": {},
     "output_type": "execute_result"
    }
   ],
   "source": [
    "shapiro(df[\"#07\"])"
   ]
  },
  {
   "cell_type": "code",
   "execution_count": 58,
   "id": "28443df3-6e95-4184-95bf-0cf7a973f4bd",
   "metadata": {},
   "outputs": [
    {
     "data": {
      "text/plain": [
       "ShapiroResult(statistic=0.7105400562286377, pvalue=1.3925255188951269e-05)"
      ]
     },
     "execution_count": 58,
     "metadata": {},
     "output_type": "execute_result"
    }
   ],
   "source": [
    "shapiro(df[\"#08\"])"
   ]
  },
  {
   "cell_type": "code",
   "execution_count": 19,
   "id": "cb53e5d6-3e73-4480-8b7f-6d85796bf76d",
   "metadata": {},
   "outputs": [
    {
     "data": {
      "text/plain": [
       "ShapiroResult(statistic=0.5443443059921265, pvalue=1.5646656947865267e-07)"
      ]
     },
     "execution_count": 19,
     "metadata": {},
     "output_type": "execute_result"
    }
   ],
   "source": [
    "shapiro(df[\"#09-SP\"])"
   ]
  },
  {
   "cell_type": "code",
   "execution_count": 59,
   "id": "d664390b-2649-4f68-82a0-4f5c3ea5128d",
   "metadata": {},
   "outputs": [
    {
     "data": {
      "text/plain": [
       "ShapiroResult(statistic=0.5824245810508728, pvalue=3.9556789488415234e-07)"
      ]
     },
     "execution_count": 59,
     "metadata": {},
     "output_type": "execute_result"
    }
   ],
   "source": [
    "shapiro(df[\"#10\"])"
   ]
  },
  {
   "cell_type": "code",
   "execution_count": 21,
   "id": "cd69e506-f669-4032-afd6-d815c3ee813f",
   "metadata": {},
   "outputs": [
    {
     "data": {
      "text/plain": [
       "ShapiroResult(statistic=0.4424148201942444, pvalue=1.6277521552865437e-08)"
      ]
     },
     "execution_count": 21,
     "metadata": {},
     "output_type": "execute_result"
    }
   ],
   "source": [
    "shapiro(df[\"#11\"])"
   ]
  },
  {
   "cell_type": "code",
   "execution_count": 60,
   "id": "9d1a912f",
   "metadata": {},
   "outputs": [
    {
     "name": "stdout",
     "output_type": "stream",
     "text": [
      "KruskalResult(statistic=14.34074266001745, pvalue=0.11071014311534604)\n"
     ]
    }
   ],
   "source": [
    "result = stats.kruskal(df[\"#01\"], df[\"#02\"], df[\"#03\"], df[\"#05\"],df[\"#06\"],df[\"#07\"],df[\"#08\"],df[\"#09\"],df[\"#10\"],df[\"#11\"])\n",
    "print(result)"
   ]
  }
 ],
 "metadata": {
  "kernelspec": {
   "display_name": "Python 3 (ipykernel)",
   "language": "python",
   "name": "python3"
  },
  "language_info": {
   "codemirror_mode": {
    "name": "ipython",
    "version": 3
   },
   "file_extension": ".py",
   "mimetype": "text/x-python",
   "name": "python",
   "nbconvert_exporter": "python",
   "pygments_lexer": "ipython3",
   "version": "3.11.5"
  }
 },
 "nbformat": 4,
 "nbformat_minor": 5
}
