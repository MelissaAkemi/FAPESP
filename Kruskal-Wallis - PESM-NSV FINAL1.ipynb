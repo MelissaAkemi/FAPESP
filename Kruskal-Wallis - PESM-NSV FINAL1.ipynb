{
 "cells": [
  {
   "cell_type": "code",
   "execution_count": 7,
   "id": "90b33077",
   "metadata": {},
   "outputs": [
    {
     "data": {
      "text/html": [
       "<div>\n",
       "<style scoped>\n",
       "    .dataframe tbody tr th:only-of-type {\n",
       "        vertical-align: middle;\n",
       "    }\n",
       "\n",
       "    .dataframe tbody tr th {\n",
       "        vertical-align: top;\n",
       "    }\n",
       "\n",
       "    .dataframe thead th {\n",
       "        text-align: right;\n",
       "    }\n",
       "</style>\n",
       "<table border=\"1\" class=\"dataframe\">\n",
       "  <thead>\n",
       "    <tr style=\"text-align: right;\">\n",
       "      <th></th>\n",
       "      <th>#12-SP</th>\n",
       "      <th>#13-SP</th>\n",
       "      <th>#15-SP</th>\n",
       "      <th>#16-SP</th>\n",
       "      <th>#17-SP</th>\n",
       "      <th>#18-SP</th>\n",
       "      <th>#20-SP</th>\n",
       "      <th>#21-SP</th>\n",
       "      <th>#22-SP</th>\n",
       "      <th>#23-SP</th>\n",
       "    </tr>\n",
       "  </thead>\n",
       "  <tbody>\n",
       "    <tr>\n",
       "      <th>0</th>\n",
       "      <td>0</td>\n",
       "      <td>0</td>\n",
       "      <td>1</td>\n",
       "      <td>0</td>\n",
       "      <td>0</td>\n",
       "      <td>0</td>\n",
       "      <td>0</td>\n",
       "      <td>0</td>\n",
       "      <td>0</td>\n",
       "      <td>0</td>\n",
       "    </tr>\n",
       "    <tr>\n",
       "      <th>1</th>\n",
       "      <td>0</td>\n",
       "      <td>0</td>\n",
       "      <td>0</td>\n",
       "      <td>0</td>\n",
       "      <td>0</td>\n",
       "      <td>1</td>\n",
       "      <td>0</td>\n",
       "      <td>0</td>\n",
       "      <td>0</td>\n",
       "      <td>0</td>\n",
       "    </tr>\n",
       "    <tr>\n",
       "      <th>2</th>\n",
       "      <td>6</td>\n",
       "      <td>1</td>\n",
       "      <td>0</td>\n",
       "      <td>0</td>\n",
       "      <td>0</td>\n",
       "      <td>0</td>\n",
       "      <td>0</td>\n",
       "      <td>0</td>\n",
       "      <td>0</td>\n",
       "      <td>0</td>\n",
       "    </tr>\n",
       "    <tr>\n",
       "      <th>3</th>\n",
       "      <td>0</td>\n",
       "      <td>0</td>\n",
       "      <td>0</td>\n",
       "      <td>0</td>\n",
       "      <td>0</td>\n",
       "      <td>0</td>\n",
       "      <td>0</td>\n",
       "      <td>0</td>\n",
       "      <td>0</td>\n",
       "      <td>2</td>\n",
       "    </tr>\n",
       "    <tr>\n",
       "      <th>4</th>\n",
       "      <td>1</td>\n",
       "      <td>4</td>\n",
       "      <td>1</td>\n",
       "      <td>0</td>\n",
       "      <td>0</td>\n",
       "      <td>2</td>\n",
       "      <td>2</td>\n",
       "      <td>1</td>\n",
       "      <td>0</td>\n",
       "      <td>1</td>\n",
       "    </tr>\n",
       "  </tbody>\n",
       "</table>\n",
       "</div>"
      ],
      "text/plain": [
       "   #12-SP  #13-SP  #15-SP  #16-SP  #17-SP  #18-SP  #20-SP  #21-SP  #22-SP  \\\n",
       "0       0       0       1       0       0       0       0       0       0   \n",
       "1       0       0       0       0       0       1       0       0       0   \n",
       "2       6       1       0       0       0       0       0       0       0   \n",
       "3       0       0       0       0       0       0       0       0       0   \n",
       "4       1       4       1       0       0       2       2       1       0   \n",
       "\n",
       "   #23-SP  \n",
       "0       0  \n",
       "1       0  \n",
       "2       0  \n",
       "3       2  \n",
       "4       1  "
      ]
     },
     "execution_count": 7,
     "metadata": {},
     "output_type": "execute_result"
    }
   ],
   "source": [
    "import numpy as np\n",
    "import pandas as pd\n",
    "from scipy import stats\n",
    "from scipy.stats import shapiro\n",
    "\n",
    "\n",
    "df = pd.read_excel(\"c:/Users/melia/Desktop/IC/EXCEL/Abundância ANOVA PESM-NSV.xlsx\")\n",
    "df.head()"
   ]
  },
  {
   "cell_type": "code",
   "execution_count": 9,
   "id": "b53f402c-ba32-47a4-bb27-5155583d59e6",
   "metadata": {},
   "outputs": [
    {
     "data": {
      "text/plain": [
       "ShapiroResult(statistic=0.6929207444190979, pvalue=3.840204669813829e-07)"
      ]
     },
     "execution_count": 9,
     "metadata": {},
     "output_type": "execute_result"
    }
   ],
   "source": [
    "shapiro(df[\"#12-SP\"])"
   ]
  },
  {
   "cell_type": "code",
   "execution_count": 11,
   "id": "245c8baf-0f3e-410e-9748-68d389053b68",
   "metadata": {},
   "outputs": [
    {
     "data": {
      "text/plain": [
       "ShapiroResult(statistic=0.7298941016197205, pvalue=1.4626867823608336e-06)"
      ]
     },
     "execution_count": 11,
     "metadata": {},
     "output_type": "execute_result"
    }
   ],
   "source": [
    "shapiro(df[\"#13-SP\"])"
   ]
  },
  {
   "cell_type": "code",
   "execution_count": 12,
   "id": "03df1861-b3a1-4003-963c-8610fadd2083",
   "metadata": {},
   "outputs": [
    {
     "data": {
      "text/plain": [
       "ShapiroResult(statistic=0.4073216915130615, pvalue=1.3642161011961917e-10)"
      ]
     },
     "execution_count": 12,
     "metadata": {},
     "output_type": "execute_result"
    }
   ],
   "source": [
    "shapiro(df[\"#15-SP\"])"
   ]
  },
  {
   "cell_type": "code",
   "execution_count": 13,
   "id": "84ebd6c7-97ba-4ae6-9ef7-f602d6486690",
   "metadata": {},
   "outputs": [
    {
     "data": {
      "text/plain": [
       "ShapiroResult(statistic=0.40613675117492676, pvalue=1.3279938260168933e-10)"
      ]
     },
     "execution_count": 13,
     "metadata": {},
     "output_type": "execute_result"
    }
   ],
   "source": [
    "shapiro(df[\"#16-SP\"])"
   ]
  },
  {
   "cell_type": "code",
   "execution_count": 14,
   "id": "e7a77908-6c57-4e41-87ff-ba9132157ec9",
   "metadata": {},
   "outputs": [
    {
     "data": {
      "text/plain": [
       "ShapiroResult(statistic=0.5592310428619385, pvalue=6.117729878241107e-09)"
      ]
     },
     "execution_count": 14,
     "metadata": {},
     "output_type": "execute_result"
    }
   ],
   "source": [
    "shapiro(df[\"#17-SP\"])"
   ]
  },
  {
   "cell_type": "code",
   "execution_count": 15,
   "id": "2b2a70ac-775c-49f8-a296-ac41d11e29f8",
   "metadata": {},
   "outputs": [
    {
     "data": {
      "text/plain": [
       "ShapiroResult(statistic=0.3797076344490051, pvalue=7.35447883148943e-11)"
      ]
     },
     "execution_count": 15,
     "metadata": {},
     "output_type": "execute_result"
    }
   ],
   "source": [
    "shapiro(df[\"#18-SP\"])"
   ]
  },
  {
   "cell_type": "code",
   "execution_count": 16,
   "id": "a11a9504-2168-4a11-a9bc-4df24b0bb80a",
   "metadata": {},
   "outputs": [
    {
     "data": {
      "text/plain": [
       "ShapiroResult(statistic=0.3714509606361389, pvalue=6.136489233421472e-11)"
      ]
     },
     "execution_count": 16,
     "metadata": {},
     "output_type": "execute_result"
    }
   ],
   "source": [
    "shapiro(df[\"#20-SP\"])"
   ]
  },
  {
   "cell_type": "code",
   "execution_count": 18,
   "id": "2b7f12e8-b07e-494a-9458-752bbbc87053",
   "metadata": {},
   "outputs": [
    {
     "data": {
      "text/plain": [
       "ShapiroResult(statistic=0.5103757381439209, pvalue=1.6548510339831068e-09)"
      ]
     },
     "execution_count": 18,
     "metadata": {},
     "output_type": "execute_result"
    }
   ],
   "source": [
    "shapiro(df[\"#21-SP\"])"
   ]
  },
  {
   "cell_type": "code",
   "execution_count": 19,
   "id": "e53e24d6-3fdf-4cee-a42a-e6eecce5d925",
   "metadata": {},
   "outputs": [
    {
     "data": {
      "text/plain": [
       "ShapiroResult(statistic=0.3072241544723511, pvalue=1.5828512112125992e-11)"
      ]
     },
     "execution_count": 19,
     "metadata": {},
     "output_type": "execute_result"
    }
   ],
   "source": [
    "shapiro(df[\"#22-SP\"])"
   ]
  },
  {
   "cell_type": "code",
   "execution_count": 20,
   "id": "9b032c39-3122-423b-9a67-68a9e8ac5c1d",
   "metadata": {},
   "outputs": [
    {
     "data": {
      "text/plain": [
       "ShapiroResult(statistic=0.528217077255249, pvalue=2.6399287200717936e-09)"
      ]
     },
     "execution_count": 20,
     "metadata": {},
     "output_type": "execute_result"
    }
   ],
   "source": [
    "shapiro(df[\"#23-SP\"])"
   ]
  },
  {
   "cell_type": "code",
   "execution_count": null,
   "id": "7f896182-9c36-496f-93ab-01cdbc6e6bbd",
   "metadata": {},
   "outputs": [],
   "source": []
  },
  {
   "cell_type": "code",
   "execution_count": 17,
   "id": "78e54270",
   "metadata": {},
   "outputs": [
    {
     "name": "stdout",
     "output_type": "stream",
     "text": [
      "KruskalResult(statistic=21.25905627099981, pvalue=0.011548535354368266)\n"
     ]
    }
   ],
   "source": [
    "result = stats.kruskal(df[\"#12-SP\"], df[\"#13-SP\"], df[\"#15-SP\"], df[\"#16-SP\"],df[\"#17-SP\"],df[\"#18-SP\"],df[\"#20-SP\"],df[\"#21-SP\"],df[\"#22-SP\"],df[\"#23-SP\"])\n",
    "print(result)"
   ]
  }
 ],
 "metadata": {
  "kernelspec": {
   "display_name": "Python 3 (ipykernel)",
   "language": "python",
   "name": "python3"
  },
  "language_info": {
   "codemirror_mode": {
    "name": "ipython",
    "version": 3
   },
   "file_extension": ".py",
   "mimetype": "text/x-python",
   "name": "python",
   "nbconvert_exporter": "python",
   "pygments_lexer": "ipython3",
   "version": "3.11.5"
  }
 },
 "nbformat": 4,
 "nbformat_minor": 5
}
